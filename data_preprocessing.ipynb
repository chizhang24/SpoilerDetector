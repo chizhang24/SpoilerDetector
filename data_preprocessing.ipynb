{
 "cells": [
  {
   "cell_type": "code",
   "execution_count": 3,
   "metadata": {},
   "outputs": [
    {
     "name": "stderr",
     "output_type": "stream",
     "text": [
      "[nltk_data] Downloading package punkt_tab to /Users/chi/nltk_data...\n",
      "[nltk_data]   Package punkt_tab is already up-to-date!\n"
     ]
    }
   ],
   "source": [
    "import re\n",
    "import nltk\n",
    "from nltk.corpus import stopwords\n",
    "from nltk.stem import PorterStemmer\n",
    "from tqdm import tqdm\n",
    "import json \n",
    "import pandas as pd\n",
    "\n",
    "from sklearn.model_selection import train_test_split\n",
    "from sklearn.preprocessing import LabelEncoder\n",
    "from sklearn.feature_extraction.text import TfidfVectorizer\n",
    "from imblearn.over_sampling import SMOTE\n",
    "from sklearn.pipeline import make_pipeline\n",
    "import random\n",
    "\n",
    "\n",
    "import torch\n",
    "import torch.nn as nn\n",
    "from torch.optim import Adam\n",
    "from sklearn.metrics import accuracy_score\n",
    "from torch.utils.data import Dataset, DataLoader\n",
    "import matplotlib.pyplot as plt\n",
    "\n",
    "\n",
    "from transformers import BertTokenizer\n",
    "nltk.download('punkt_tab')\n",
    "device = torch.device('cuda' if torch.cuda.is_available() else 'cpu')"
   ]
  },
  {
   "cell_type": "code",
   "execution_count": 4,
   "metadata": {},
   "outputs": [],
   "source": [
    "class LSTMClassifier(nn.Module):\n",
    "    def __init__(self, embedding_dim, hidden_dim, vocab_size, output_dim, n_layers, bidirectional, dropout):\n",
    "        \n",
    "        super().__init__()\n",
    "        self.embedding = nn.Embedding(vocab_size, embedding_dim)\n",
    "        self.lstm = nn.LSTM(embedding_dim, hidden_dim, num_layers=n_layers, bidirectional=bidirectional, dropout=dropout, batch_first=True)\n",
    "        self.fc = nn.Linear(hidden_dim * 2 if bidirectional else hidden_dim, output_dim)\n",
    "        self.dropout = nn.Dropout(dropout)\n",
    "\n",
    "    def forward(self, x):\n",
    "        embedded = self.dropout(self.embedding(x))\n",
    "        lstm_out, _ = self.lstm(embedded)\n",
    "        output = self.fc(lstm_out[:, -1, :])\n",
    "        return output\n",
    "    \n",
    "\n",
    "# Training function\n",
    "def train_lstm(model, dataloader, optimizer, criterion):\n",
    "    model.train()\n",
    "    total_loss = 0\n",
    "    total_acc = 0\n",
    "\n",
    "    print('dataloader len', len(dataloader))\n",
    "\n",
    "    # Wrap the dataloader with tqdm for progress tracking\n",
    "    for batch in tqdm(dataloader, desc=\"Training\"):\n",
    "        optimizer.zero_grad()\n",
    "        input_ids = batch['input_ids'].to(device)\n",
    "        labels = batch['label'].to(device)\n",
    "\n",
    "        print('input_ids shape', input_ids.shape)\n",
    "        print('labels shape', labels.shape)\n",
    "        # Forward pass\n",
    "        outputs = model(input_ids)\n",
    "        print('outputs shape', outputs.shape)\n",
    "        loss = criterion(outputs, labels)\n",
    "        preds = torch.argmax(outputs, dim=1)\n",
    "\n",
    "        # Backward pass and optimization\n",
    "        loss.backward()\n",
    "        optimizer.step()\n",
    "\n",
    "        total_loss += loss.item()\n",
    "        total_acc += accuracy_score(labels.cpu().numpy(), preds.cpu().numpy())\n",
    "\n",
    "    return total_loss / len(dataloader), total_acc / len(dataloader)\n",
    "\n",
    "\n",
    "# Evaluation function\n",
    "def evaluate_lstm(model, dataloader):\n",
    "    model.eval()\n",
    "    total_acc = 0\n",
    "\n",
    "    with torch.no_grad():\n",
    "        # Wrap the dataloader with tqdm for progress tracking\n",
    "        for batch in tqdm(dataloader, desc=\"Evaluating\"):\n",
    "            input_ids = batch['input_ids'].to(device)\n",
    "            labels = batch['label'].to(device)\n",
    "            outputs = model(input_ids)\n",
    "            preds = torch.argmax(outputs, dim=1)\n",
    "\n",
    "            total_acc += accuracy_score(labels.cpu().numpy(), preds.cpu().numpy())\n",
    "\n",
    "    return total_acc / len(dataloader)\n",
    "\n"
   ]
  },
  {
   "cell_type": "code",
   "execution_count": 5,
   "metadata": {},
   "outputs": [],
   "source": [
    "file_path = 'data/sampled_preprocessed.json'\n",
    "df = pd.read_json(file_path)"
   ]
  },
  {
   "cell_type": "code",
   "execution_count": 6,
   "metadata": {},
   "outputs": [],
   "source": [
    "label_encoder = LabelEncoder()\n",
    "df['label'] = label_encoder.fit_transform(df['is_spoiler'])\n",
    "\n",
    "# Split the data before applying SMOTE\n",
    "train_df, temp_df = train_test_split(df, test_size=0.2, random_state=42, stratify=df['label'])\n",
    "\n",
    "# Calculate original class distribution\n",
    "original_class_distribution = train_df['label'].value_counts()\n",
    "\n",
    "\n",
    "\n",
    "# # Vectorization and SMOTE\n",
    "# vectorizer = TfidfVectorizer()\n",
    "# X_train_tfidf = vectorizer.fit_transform(train_df['cleaned_review_text'])  # Convert text to TF-IDF\n",
    "y_train = train_df['label']\n",
    "\n",
    "# print(\"Original dataset shape:\", type(X_train_tfidf))\n",
    "\n",
    "\n",
    "# smote = SMOTE(random_state=42)\n",
    "# X_resampled, y_resampled = smote.fit_resample(X_train_tfidf, y_train)\n",
    "\n",
    "# # Check the resampled data\n",
    "# print(\"Resampled dataset shape:\", X_resampled.shape)\n",
    "\n",
    "# train_df_resampled = pd.DataFrame(X_resampled.todense(), columns=vectorizer.get_feature_names_out())\n",
    "# train_df_resampled['label'] = y_resampled\n",
    "\n",
    "# # 5. Re-split the temporary set into validation and test sets (50% each)\n",
    "val_df, test_df = train_test_split(temp_df, test_size=0.5, random_state=42, stratify=temp_df['label'])\n",
    "\n",
    "# print(\"Train (Resampled) Shape:\", train_df_resampled.shape)\n",
    "# print(\"Validation Shape:\", val_df.shape)\n",
    "# print(\"Test Shape:\", test_df.shape)\n",
    "# Tokenization\n",
    "# tokenizer = BertTokenizer.from_pretrained('bert-base-uncased')"
   ]
  },
  {
   "cell_type": "code",
   "execution_count": 7,
   "metadata": {},
   "outputs": [],
   "source": [
    "tokenizer = BertTokenizer.from_pretrained('bert-base-uncased')\n",
    "\n",
    "class SpoilerDataset(Dataset):\n",
    "    def __init__(self, texts, labels):\n",
    "        self.texts = texts\n",
    "        self.labels = labels\n",
    "\n",
    "    def __len__(self):\n",
    "        return len(self.texts)\n",
    "\n",
    "    def __getitem__(self, idx):\n",
    "        text = self.texts[idx]\n",
    "        label = self.labels[idx]\n",
    "\n",
    "        encoding = tokenizer.encode_plus(\n",
    "            text,\n",
    "            max_length=5000,\n",
    "            add_special_tokens=True,\n",
    "            padding='max_length',\n",
    "            truncation=True,\n",
    "            return_attention_mask=True,\n",
    "            return_tensors='pt',\n",
    "        )\n",
    "\n",
    "        return {\n",
    "            'input_ids': encoding['input_ids'].flatten(),\n",
    "            'attention_mask': encoding['attention_mask'].flatten(),\n",
    "            'label': torch.tensor(label, dtype=torch.long)\n",
    "        }"
   ]
  },
  {
   "cell_type": "code",
   "execution_count": 8,
   "metadata": {},
   "outputs": [],
   "source": [
    "batch_size = 128\n",
    "# Create datasets with the resampled training data\n",
    "train_dataset = SpoilerDataset(train_df['cleaned_review_text'].tolist(), train_df['label'].tolist())\n",
    "val_dataset = SpoilerDataset(val_df['cleaned_review_text'].tolist(), val_df['label'].tolist())\n",
    "test_dataset = SpoilerDataset(test_df['cleaned_review_text'].tolist(), test_df['label'].tolist())\n",
    "\n",
    "train_loader = DataLoader(train_dataset, batch_size=batch_size, shuffle=True)\n",
    "val_loader = DataLoader(val_dataset, batch_size=batch_size, shuffle=False)\n",
    "test_loader = DataLoader(test_dataset, batch_size=batch_size, shuffle=False)\n",
    "\n",
    "\n",
    "# Hyperparameters\n",
    "embedding_dim = 100\n",
    "hidden_dim = 128\n",
    "vocab_size = tokenizer.vocab_size\n",
    "output_dim = 2\n",
    "n_layers = 3\n",
    "bidirectional = True\n",
    "dropout = 0.5\n",
    "\n",
    "\n",
    "\n",
    "# Instantiate model, loss function, optimizer\n",
    "lstm_model = LSTMClassifier(embedding_dim, hidden_dim, vocab_size, output_dim, n_layers, bidirectional, dropout)\n",
    "lstm_model = lstm_model.to(device)\n",
    "optimizer = Adam(lstm_model.parameters(), lr=1e-3)\n",
    "criterion = nn.CrossEntropyLoss()\n"
   ]
  },
  {
   "cell_type": "code",
   "execution_count": 9,
   "metadata": {},
   "outputs": [
    {
     "name": "stdout",
     "output_type": "stream",
     "text": [
      "{'input_ids': tensor([ 101, 2113, 3653,  ...,    0,    0,    0]), 'attention_mask': tensor([1, 1, 1,  ..., 0, 0, 0]), 'label': tensor(1)}\n"
     ]
    }
   ],
   "source": [
    "print(train_loader.dataset[0])"
   ]
  },
  {
   "cell_type": "code",
   "execution_count": null,
   "metadata": {},
   "outputs": [
    {
     "name": "stderr",
     "output_type": "stream",
     "text": [
      "Training Epochs:   0%|          | 0/5 [00:00<?, ?it/s]"
     ]
    },
    {
     "name": "stdout",
     "output_type": "stream",
     "text": [
      "dataloader len 179\n"
     ]
    },
    {
     "name": "stderr",
     "output_type": "stream",
     "text": []
    },
    {
     "name": "stdout",
     "output_type": "stream",
     "text": [
      "input_ids shape torch.Size([128, 5000])\n",
      "labels shape torch.Size([128])\n",
      "outputs shape torch.Size([128, 2])\n"
     ]
    },
    {
     "name": "stderr",
     "output_type": "stream",
     "text": []
    },
    {
     "name": "stdout",
     "output_type": "stream",
     "text": [
      "input_ids shape torch.Size([128, 5000])\n",
      "labels shape torch.Size([128])\n",
      "outputs shape torch.Size([128, 2])\n"
     ]
    },
    {
     "name": "stderr",
     "output_type": "stream",
     "text": []
    },
    {
     "name": "stdout",
     "output_type": "stream",
     "text": [
      "input_ids shape torch.Size([128, 5000])\n",
      "labels shape torch.Size([128])\n",
      "outputs shape torch.Size([128, 2])\n"
     ]
    },
    {
     "name": "stderr",
     "output_type": "stream",
     "text": []
    },
    {
     "name": "stdout",
     "output_type": "stream",
     "text": [
      "input_ids shape torch.Size([128, 5000])\n",
      "labels shape torch.Size([128])\n",
      "outputs shape torch.Size([128, 2])\n"
     ]
    },
    {
     "name": "stderr",
     "output_type": "stream",
     "text": []
    },
    {
     "name": "stdout",
     "output_type": "stream",
     "text": [
      "input_ids shape torch.Size([128, 5000])\n",
      "labels shape torch.Size([128])\n",
      "outputs shape torch.Size([128, 2])\n"
     ]
    },
    {
     "name": "stderr",
     "output_type": "stream",
     "text": []
    },
    {
     "name": "stdout",
     "output_type": "stream",
     "text": [
      "input_ids shape torch.Size([128, 5000])\n",
      "labels shape torch.Size([128])\n",
      "outputs shape torch.Size([128, 2])\n"
     ]
    },
    {
     "name": "stderr",
     "output_type": "stream",
     "text": []
    },
    {
     "name": "stdout",
     "output_type": "stream",
     "text": [
      "input_ids shape torch.Size([128, 5000])\n",
      "labels shape torch.Size([128])\n",
      "outputs shape torch.Size([128, 2])\n"
     ]
    },
    {
     "name": "stderr",
     "output_type": "stream",
     "text": []
    },
    {
     "name": "stdout",
     "output_type": "stream",
     "text": [
      "input_ids shape torch.Size([128, 5000])\n",
      "labels shape torch.Size([128])\n",
      "outputs shape torch.Size([128, 2])\n"
     ]
    },
    {
     "name": "stderr",
     "output_type": "stream",
     "text": []
    },
    {
     "name": "stdout",
     "output_type": "stream",
     "text": [
      "input_ids shape torch.Size([128, 5000])\n",
      "labels shape torch.Size([128])\n",
      "outputs shape torch.Size([128, 2])\n"
     ]
    },
    {
     "name": "stderr",
     "output_type": "stream",
     "text": []
    },
    {
     "name": "stdout",
     "output_type": "stream",
     "text": [
      "input_ids shape torch.Size([128, 5000])\n",
      "labels shape torch.Size([128])\n",
      "outputs shape torch.Size([128, 2])\n"
     ]
    },
    {
     "name": "stderr",
     "output_type": "stream",
     "text": []
    },
    {
     "name": "stdout",
     "output_type": "stream",
     "text": [
      "input_ids shape torch.Size([128, 5000])\n",
      "labels shape torch.Size([128])\n",
      "outputs shape torch.Size([128, 2])\n"
     ]
    },
    {
     "name": "stderr",
     "output_type": "stream",
     "text": []
    },
    {
     "name": "stdout",
     "output_type": "stream",
     "text": [
      "input_ids shape torch.Size([128, 5000])\n",
      "labels shape torch.Size([128])\n",
      "outputs shape torch.Size([128, 2])\n"
     ]
    },
    {
     "name": "stderr",
     "output_type": "stream",
     "text": []
    },
    {
     "name": "stdout",
     "output_type": "stream",
     "text": [
      "input_ids shape torch.Size([128, 5000])\n",
      "labels shape torch.Size([128])\n",
      "outputs shape torch.Size([128, 2])\n"
     ]
    },
    {
     "name": "stderr",
     "output_type": "stream",
     "text": []
    },
    {
     "name": "stdout",
     "output_type": "stream",
     "text": [
      "input_ids shape torch.Size([128, 5000])\n",
      "labels shape torch.Size([128])\n",
      "outputs shape torch.Size([128, 2])\n"
     ]
    },
    {
     "name": "stderr",
     "output_type": "stream",
     "text": []
    },
    {
     "name": "stdout",
     "output_type": "stream",
     "text": [
      "input_ids shape torch.Size([128, 5000])\n",
      "labels shape torch.Size([128])\n",
      "outputs shape torch.Size([128, 2])\n"
     ]
    },
    {
     "name": "stderr",
     "output_type": "stream",
     "text": []
    },
    {
     "name": "stdout",
     "output_type": "stream",
     "text": [
      "input_ids shape torch.Size([128, 5000])\n",
      "labels shape torch.Size([128])\n",
      "outputs shape torch.Size([128, 2])\n"
     ]
    }
   ],
   "source": [
    "train_losses = []\n",
    "train_accuracies = []\n",
    "val_accuracies = []\n",
    "\n",
    "n_epochs = 5\n",
    "# Initialize tqdm progress bar\n",
    "for epoch in tqdm(range(n_epochs), desc='Training Epochs'):\n",
    "    train_loss, train_acc = train_lstm(lstm_model, train_loader, optimizer, criterion)\n",
    "    val_acc = evaluate_lstm(lstm_model, val_loader)\n",
    "    \n",
    "    # Append metrics to lists\n",
    "    train_losses.append(train_loss)\n",
    "    train_accuracies.append(train_acc)\n",
    "    val_accuracies.append(val_acc)\n",
    "    \n",
    "    # Print epoch information\n",
    "    tqdm.write(f'Epoch {epoch+1}: Train Loss {train_loss:.4f}, Train Acc {train_acc:.4f}, Val Acc {val_acc:.4f}')\n",
    "    \n",
    "    # Save model checkpoint every 10 epochs\n",
    "    if (epoch + 1) % 10 == 0:\n",
    "        checkpoint_path = f'lstm_model_epoch_{epoch+1}.pth'\n",
    "        torch.save(lstm_model.state_dict(), checkpoint_path)\n",
    "        print(f'Model checkpoint saved to {checkpoint_path}')\n",
    "\n",
    "# Evaluate on test set\n",
    "test_acc = evaluate_lstm(lstm_model, test_loader)\n",
    "print(f'Test Accuracy: {test_acc:.4f}')"
   ]
  }
 ],
 "metadata": {
  "kernelspec": {
   "display_name": "env_torch",
   "language": "python",
   "name": "python3"
  },
  "language_info": {
   "codemirror_mode": {
    "name": "ipython",
    "version": 3
   },
   "file_extension": ".py",
   "mimetype": "text/x-python",
   "name": "python",
   "nbconvert_exporter": "python",
   "pygments_lexer": "ipython3",
   "version": "3.13.2"
  }
 },
 "nbformat": 4,
 "nbformat_minor": 2
}
