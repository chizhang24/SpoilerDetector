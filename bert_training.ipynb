{
 "cells": [
  {
   "cell_type": "code",
   "execution_count": 1,
   "metadata": {},
   "outputs": [
    {
     "name": "stderr",
     "output_type": "stream",
     "text": [
      "/Users/chi/.venvs/env_torch/lib/python3.13/site-packages/tqdm/auto.py:21: TqdmWarning: IProgress not found. Please update jupyter and ipywidgets. See https://ipywidgets.readthedocs.io/en/stable/user_install.html\n",
      "  from .autonotebook import tqdm as notebook_tqdm\n"
     ]
    }
   ],
   "source": [
    "from transformers import BertForSequenceClassification, BertTokenizer\n",
    "\n",
    "import torch\n",
    "import pandas as pd\n",
    "from pipeline import create_dataloaders, train_bert, evaluate_bert\n",
    "from torch.optim import Adam\n",
    "\n",
    "import torch.nn as nn\n",
    "device = torch.device(\"cuda\" if torch.cuda.is_available() else \"cpu\")"
   ]
  },
  {
   "cell_type": "code",
   "execution_count": 2,
   "metadata": {},
   "outputs": [],
   "source": [
    "file_path = 'sampled_preprocessed.json'\n",
    "df = pd.read_json(file_path)"
   ]
  },
  {
   "cell_type": "code",
   "execution_count": 3,
   "metadata": {},
   "outputs": [
    {
     "name": "stderr",
     "output_type": "stream",
     "text": [
      "Some weights of BertForSequenceClassification were not initialized from the model checkpoint at bert-base-uncased and are newly initialized: ['classifier.bias', 'classifier.weight']\n",
      "You should probably TRAIN this model on a down-stream task to be able to use it for predictions and inference.\n"
     ]
    }
   ],
   "source": [
    "bert_model = BertForSequenceClassification.from_pretrained('bert-base-uncased', num_labels=2)\n",
    "bert_model = bert_model.to(device)\n",
    "tokenizer = BertTokenizer.from_pretrained('bert-base-uncased')\n"
   ]
  },
  {
   "cell_type": "code",
   "execution_count": null,
   "metadata": {},
   "outputs": [],
   "source": []
  },
  {
   "cell_type": "code",
   "execution_count": null,
   "metadata": {},
   "outputs": [],
   "source": [
    "batch_size = 32\n",
    "max_len = 128\n",
    "\n",
    "train_loader, val_loader, test_loader = create_dataloaders(df, tokenizer, batch_size=batch_s\n",
    "                                                           \n",
    "                                                           \n",
    "                                                           \n",
    "                                                           \n",
    "                                                           \n",
    "                                                           \n",
    "                                                           \n",
    "                                                           \n",
    "                                                           \n",
    "                                                           \n",
    "                                                           \n",
    "                                                           \n",
    "                                                           \n",
    "                                                           \n",
    "                                                           )\n",
    "\n",
    "\n",
    "                                                           \n",
    "\n",
    "optimizer = Adam(bert_model.parameters(), lr=1e-3)\n"
   ]
  },
  {
   "cell_type": "code",
   "execution_count": 5,
   "metadata": {},
   "outputs": [
    {
     "name": "stdout",
     "output_type": "stream",
     "text": [
      "Epoch 1/5\n"
     ]
    },
    {
     "name": "stderr",
     "output_type": "stream",
     "text": [
      "Training: 100%|██████████| 71/71 [05:46<00:00,  4.88s/it, acc=0.689, loss=0.669]  \n",
      "Evaluating: 100%|██████████| 9/9 [00:13<00:00,  1.47s/it, acc=0.737] \n"
     ]
    },
    {
     "name": "stdout",
     "output_type": "stream",
     "text": [
      "Epoch 1: Train Loss 0.6692, Train Acc 0.6892, Val Acc 0.7374\n",
      "Epoch 2/5\n"
     ]
    },
    {
     "name": "stderr",
     "output_type": "stream",
     "text": [
      "Training: 100%|██████████| 71/71 [06:27<00:00,  5.46s/it, acc=0.734, loss=0.594]  \n",
      "Evaluating: 100%|██████████| 9/9 [00:13<00:00,  1.50s/it, acc=0.737] \n"
     ]
    },
    {
     "name": "stdout",
     "output_type": "stream",
     "text": [
      "Epoch 2: Train Loss 0.5939, Train Acc 0.7343, Val Acc 0.7374\n",
      "Epoch 3/5\n"
     ]
    },
    {
     "name": "stderr",
     "output_type": "stream",
     "text": [
      "Training: 100%|██████████| 71/71 [06:49<00:00,  5.76s/it, acc=0.736, loss=0.591]  \n",
      "Evaluating: 100%|██████████| 9/9 [00:14<00:00,  1.60s/it, acc=0.737] \n"
     ]
    },
    {
     "name": "stdout",
     "output_type": "stream",
     "text": [
      "Epoch 3: Train Loss 0.5909, Train Acc 0.7356, Val Acc 0.7374\n",
      "Epoch 4/5\n"
     ]
    },
    {
     "name": "stderr",
     "output_type": "stream",
     "text": [
      "Training: 100%|██████████| 71/71 [06:41<00:00,  5.65s/it, acc=0.728, loss=0.609]  \n",
      "Evaluating: 100%|██████████| 9/9 [00:13<00:00,  1.49s/it, acc=0.737] \n"
     ]
    },
    {
     "name": "stdout",
     "output_type": "stream",
     "text": [
      "Epoch 4: Train Loss 0.6095, Train Acc 0.7278, Val Acc 0.7374\n",
      "Epoch 5/5\n"
     ]
    },
    {
     "name": "stderr",
     "output_type": "stream",
     "text": [
      "Training: 100%|██████████| 71/71 [06:44<00:00,  5.69s/it, acc=0.736, loss=0.587] \n",
      "Evaluating: 100%|██████████| 9/9 [00:13<00:00,  1.49s/it, acc=0.737] "
     ]
    },
    {
     "name": "stdout",
     "output_type": "stream",
     "text": [
      "Epoch 5: Train Loss 0.5874, Train Acc 0.7362, Val Acc 0.7374\n"
     ]
    },
    {
     "name": "stderr",
     "output_type": "stream",
     "text": [
      "\n"
     ]
    }
   ],
   "source": [
    "train_losses = []\n",
    "train_accuracies = []\n",
    "val_accuracies = []\n",
    "\n",
    "n_epochs = 5  # Set the number of epochs\n",
    "for epoch in range(n_epochs):\n",
    "    print(f\"Epoch {epoch+1}/{n_epochs}\")\n",
    "    \n",
    "    train_loss, train_acc = train_bert(bert_model, train_loader, optimizer, device)\n",
    "    val_acc = evaluate_bert(bert_model, val_loader, device)\n",
    "    \n",
    "    # Append metrics\n",
    "    train_losses.append(train_loss)\n",
    "    train_accuracies.append(train_acc)\n",
    "    val_accuracies.append(val_acc)\n",
    "    \n",
    "    print(f'Epoch {epoch+1}: Train Loss {train_loss:.4f}, Train Acc {train_acc:.4f}, Val Acc {val_acc:.4f}')"
   ]
  }
 ],
 "metadata": {
  "kernelspec": {
   "display_name": "env_torch",
   "language": "python",
   "name": "python3"
  },
  "language_info": {
   "codemirror_mode": {
    "name": "ipython",
    "version": 3
   },
   "file_extension": ".py",
   "mimetype": "text/x-python",
   "name": "python",
   "nbconvert_exporter": "python",
   "pygments_lexer": "ipython3",
   "version": "3.13.2"
  }
 },
 "nbformat": 4,
 "nbformat_minor": 2
}
